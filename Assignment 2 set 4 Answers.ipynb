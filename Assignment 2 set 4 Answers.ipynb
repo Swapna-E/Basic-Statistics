{
 "cells": [
  {
   "cell_type": "markdown",
   "id": "fc4b2808",
   "metadata": {},
   "source": [
    "# Q3"
   ]
  },
  {
   "cell_type": "code",
   "execution_count": 2,
   "id": "c388d351",
   "metadata": {},
   "outputs": [],
   "source": [
    "import pandas as pd\n",
    "import numpy as np\n",
    "from scipy import stats"
   ]
  },
  {
   "cell_type": "code",
   "execution_count": 24,
   "id": "9412758b",
   "metadata": {},
   "outputs": [],
   "source": [
    "#### mean transaction = 50\n",
    "# standard deviation = 40\n",
    "# sample size n= 100"
   ]
  },
  {
   "cell_type": "code",
   "execution_count": 13,
   "id": "33f485c0",
   "metadata": {},
   "outputs": [
    {
     "data": {
      "text/plain": [
       "-1.25"
      ]
     },
     "execution_count": 13,
     "metadata": {},
     "output_type": "execute_result"
    }
   ],
   "source": [
    "#Z score for P(x<45)\n",
    "Z1= (45-50)/(40/np.sqrt(100))\n",
    "Z1"
   ]
  },
  {
   "cell_type": "code",
   "execution_count": 14,
   "id": "384a6d9f",
   "metadata": {},
   "outputs": [
    {
     "data": {
      "text/plain": [
       "1.25"
      ]
     },
     "execution_count": 14,
     "metadata": {},
     "output_type": "execute_result"
    }
   ],
   "source": [
    "#Z score for P(x>55)\n",
    "Z2= (55-50)/(40/np.sqrt(100))\n",
    "Z2"
   ]
  },
  {
   "cell_type": "code",
   "execution_count": 22,
   "id": "da3c3e57",
   "metadata": {},
   "outputs": [
    {
     "data": {
      "text/plain": [
       "0.7887004526662893"
      ]
     },
     "execution_count": 22,
     "metadata": {},
     "output_type": "execute_result"
    }
   ],
   "source": [
    "# for No investigation P(45<X<55)\n",
    "X= (stats.norm.cdf(1.25))-(stats.norm.cdf(-1.25))\n",
    "X"
   ]
  },
  {
   "cell_type": "code",
   "execution_count": 23,
   "id": "fe808ef1",
   "metadata": {},
   "outputs": [
    {
     "data": {
      "text/plain": [
       "0.2112995473337107"
      ]
     },
     "execution_count": 23,
     "metadata": {},
     "output_type": "execute_result"
    }
   ],
   "source": [
    "# for investigation 1 - P(45<X<55)\n",
    "1-X"
   ]
  },
  {
   "cell_type": "code",
   "execution_count": null,
   "id": "93dbce8a",
   "metadata": {},
   "outputs": [],
   "source": []
  },
  {
   "cell_type": "markdown",
   "id": "a23f8e32",
   "metadata": {},
   "source": [
    "# Q4"
   ]
  },
  {
   "cell_type": "code",
   "execution_count": 41,
   "id": "a1d3f248",
   "metadata": {},
   "outputs": [
    {
     "data": {
      "text/plain": [
       "1.959963984540054"
      ]
     },
     "execution_count": 41,
     "metadata": {},
     "output_type": "execute_result"
    }
   ],
   "source": [
    "import pandas as pd\n",
    "import numpy as np\n",
    "from scipy import stats\n",
    "# investigation probability is 5%, so  non investigation area is 95%\n",
    "# 0.95+0.025=0.975\n",
    "Z= stats.norm.ppf(0.975)\n",
    "Z"
   ]
  },
  {
   "cell_type": "code",
   "execution_count": 42,
   "id": "3fc996e0",
   "metadata": {},
   "outputs": [
    {
     "data": {
      "text/plain": [
       "245.85336452442397"
      ]
     },
     "execution_count": 42,
     "metadata": {},
     "output_type": "execute_result"
    }
   ],
   "source": [
    "# to find sample size\n",
    "n= ((Z*40)/(45-50))**2\n",
    "n"
   ]
  }
 ],
 "metadata": {
  "kernelspec": {
   "display_name": "Python 3 (ipykernel)",
   "language": "python",
   "name": "python3"
  },
  "language_info": {
   "codemirror_mode": {
    "name": "ipython",
    "version": 3
   },
   "file_extension": ".py",
   "mimetype": "text/x-python",
   "name": "python",
   "nbconvert_exporter": "python",
   "pygments_lexer": "ipython3",
   "version": "3.9.12"
  }
 },
 "nbformat": 4,
 "nbformat_minor": 5
}
