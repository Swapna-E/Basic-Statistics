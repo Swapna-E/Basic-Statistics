{
 "cells": [
  {
   "cell_type": "markdown",
   "id": "49205ddd",
   "metadata": {},
   "source": [
    "# Q1 1.\tThe time required for servicing transmissions is normally distributed with  = 45 minutes and  = 8 minutes. The service manager plans to have work begin on the transmission of a customer’s car 10 minutes after the car is dropped off and the customer is told that the car will be ready within 1 hour from drop-off. What is the probability that the service manager cannot meet his commitment? "
   ]
  },
  {
   "cell_type": "code",
   "execution_count": 2,
   "id": "b018701a",
   "metadata": {},
   "outputs": [],
   "source": [
    "# mean = 45 mins\n",
    "# standard deviation = 8 mins\n"
   ]
  },
  {
   "cell_type": "code",
   "execution_count": 3,
   "id": "9d7f2637",
   "metadata": {},
   "outputs": [],
   "source": [
    "# P(X>50) = 1 - P(X<50)"
   ]
  },
  {
   "cell_type": "code",
   "execution_count": 4,
   "id": "04e402d8",
   "metadata": {},
   "outputs": [
    {
     "data": {
      "text/plain": [
       "0.26598552904870054"
      ]
     },
     "execution_count": 4,
     "metadata": {},
     "output_type": "execute_result"
    }
   ],
   "source": [
    "from scipy import stats\n",
    "X = 1 - (stats.norm.cdf(50,45,8))\n",
    "X"
   ]
  },
  {
   "cell_type": "code",
   "execution_count": null,
   "id": "9c089157",
   "metadata": {},
   "outputs": [],
   "source": []
  },
  {
   "cell_type": "markdown",
   "id": "cf5bcbed",
   "metadata": {},
   "source": [
    "# Q2"
   ]
  },
  {
   "cell_type": "code",
   "execution_count": 8,
   "id": "acc18433",
   "metadata": {},
   "outputs": [],
   "source": [
    "# normally distributed with mean  = 38 and Standard deviation =6"
   ]
  },
  {
   "cell_type": "code",
   "execution_count": 16,
   "id": "71ff8f94",
   "metadata": {},
   "outputs": [
    {
     "data": {
      "text/plain": [
       "0.15865525393145707"
      ]
     },
     "execution_count": 16,
     "metadata": {},
     "output_type": "execute_result"
    }
   ],
   "source": [
    "# P(X>44) = 1-(P<=44)\n",
    "from scipy import stats\n",
    "P44 = 1 - (stats.norm.cdf(44,38,6))\n",
    "P44\n"
   ]
  },
  {
   "cell_type": "code",
   "execution_count": 17,
   "id": "8369136b",
   "metadata": {},
   "outputs": [
    {
     "data": {
      "text/plain": [
       "0.3413447460685429"
      ]
     },
     "execution_count": 17,
     "metadata": {},
     "output_type": "execute_result"
    }
   ],
   "source": [
    "#P(44<=X<=38)\n",
    "Y=(stats.norm.cdf(44,38,6)) - (stats.norm.cdf(38,38,6))\n",
    "Y"
   ]
  },
  {
   "cell_type": "code",
   "execution_count": 21,
   "id": "bc62f418",
   "metadata": {},
   "outputs": [],
   "source": [
    "# P(X>44) is less than the P(44<=X<=38). \n",
    "#So, statement A.\tMore employees at the processing center are older than 44 \n",
    "# than between 38 and 44. is FALSE"
   ]
  },
  {
   "cell_type": "code",
   "execution_count": 19,
   "id": "5eee895e",
   "metadata": {},
   "outputs": [
    {
     "data": {
      "text/plain": [
       "0.09121121972586788"
      ]
     },
     "execution_count": 19,
     "metadata": {},
     "output_type": "execute_result"
    }
   ],
   "source": [
    "#P(X<=30)\n",
    "X30=(stats.norm.cdf(30,38,6))\n",
    "X30"
   ]
  },
  {
   "cell_type": "code",
   "execution_count": 20,
   "id": "774fed4d",
   "metadata": {},
   "outputs": [
    {
     "data": {
      "text/plain": [
       "36.0"
      ]
     },
     "execution_count": 20,
     "metadata": {},
     "output_type": "execute_result"
    }
   ],
   "source": [
    "# n=400\n",
    "400*0.09\n"
   ]
  },
  {
   "cell_type": "code",
   "execution_count": null,
   "id": "844138cb",
   "metadata": {},
   "outputs": [],
   "source": [
    "# B.\tA training program for employees under the age of 30 at the center\n",
    "# would be expected to attract about 36 employees. is TRUE\n",
    " \n"
   ]
  },
  {
   "cell_type": "markdown",
   "id": "0089d538",
   "metadata": {},
   "source": [
    "# Q4"
   ]
  },
  {
   "cell_type": "code",
   "execution_count": 25,
   "id": "16c0062c",
   "metadata": {},
   "outputs": [
    {
     "data": {
      "text/plain": [
       "-2.575829303548901"
      ]
     },
     "execution_count": 25,
     "metadata": {},
     "output_type": "execute_result"
    }
   ],
   "source": [
    "from scipy import stats\n",
    "Z1 = stats.norm.ppf(0.005)\n",
    "Z1"
   ]
  },
  {
   "cell_type": "code",
   "execution_count": 26,
   "id": "fe222306",
   "metadata": {},
   "outputs": [
    {
     "data": {
      "text/plain": [
       "2.5758293035489004"
      ]
     },
     "execution_count": 26,
     "metadata": {},
     "output_type": "execute_result"
    }
   ],
   "source": [
    "Z2 = stats.norm.ppf(0.995)\n",
    "Z2"
   ]
  },
  {
   "cell_type": "code",
   "execution_count": 29,
   "id": "84cea1f8",
   "metadata": {},
   "outputs": [
    {
     "data": {
      "text/plain": [
       "48.48"
      ]
     },
     "execution_count": 29,
     "metadata": {},
     "output_type": "execute_result"
    }
   ],
   "source": [
    "a = (20*-2.576) + 100\n",
    "a"
   ]
  },
  {
   "cell_type": "code",
   "execution_count": 30,
   "id": "ca23b470",
   "metadata": {},
   "outputs": [
    {
     "data": {
      "text/plain": [
       "151.52"
      ]
     },
     "execution_count": 30,
     "metadata": {},
     "output_type": "execute_result"
    }
   ],
   "source": [
    "b = (20*2.576)+100\n",
    "b"
   ]
  },
  {
   "cell_type": "markdown",
   "id": "24ff8296",
   "metadata": {},
   "source": [
    "# Q5"
   ]
  },
  {
   "cell_type": "code",
   "execution_count": 33,
   "id": "1bab788d",
   "metadata": {},
   "outputs": [],
   "source": [
    "import numpy as np\n",
    "from scipy import stats\n",
    "from scipy.stats import norm"
   ]
  },
  {
   "cell_type": "code",
   "execution_count": 35,
   "id": "0dd85c69",
   "metadata": {},
   "outputs": [
    {
     "name": "stdout",
     "output_type": "stream",
     "text": [
      "Range is Rs (99.00810347848784, 980.9918965215122) in Millions\n"
     ]
    }
   ],
   "source": [
    "# A). Specify a Rupee range (centered on the mean) such that it contains 95% probability\n",
    "# for the annual profit of the company.\n",
    "print('Range is Rs',(stats.norm.interval(0.95,540,225)),'in Millions')"
   ]
  },
  {
   "cell_type": "code",
   "execution_count": 43,
   "id": "9858705e",
   "metadata": {},
   "outputs": [
    {
     "name": "stdout",
     "output_type": "stream",
     "text": [
      "Zvalue is -1.6448536269514729\n",
      "5th percentile of profit (in Million Rupees) is 169.875\n"
     ]
    }
   ],
   "source": [
    "# B). Specify the 5th percentile of profit (in Rupees) for the company\n",
    "# To compute 5th Percentile, \n",
    "Z= stats.norm.ppf(0.05)\n",
    "print(\"Zvalue is\",Z)\n",
    "# use the formula X=μ + Zσ; \n",
    "X= 540+(-1.645)*(225)\n",
    "print('5th percentile of profit (in Million Rupees) is',X)"
   ]
  },
  {
   "cell_type": "code",
   "execution_count": 45,
   "id": "63e1a639",
   "metadata": {},
   "outputs": [
    {
     "name": "stdout",
     "output_type": "stream",
     "text": [
      "Probability of Division 1 making a loss is  0.0477903522728147\n",
      "Probability of Division 1 making a loss is  0.040059156863817086\n"
     ]
    }
   ],
   "source": [
    "# C). Which of the two divisions has a larger probability of making a loss in a given year?\n",
    "# Probability of Division 1 making a loss P(X<0)\n",
    "loss1=stats.norm.cdf(0,5,3)\n",
    "print(\"Probability of Division 1 making a loss is \" , loss1)\n",
    "# Probability of Division 2 making a loss P(X<0)\n",
    "loss2=stats.norm.cdf(0,7,4)\n",
    "print(\"Probability of Division 1 making a loss is \" , loss2)"
   ]
  },
  {
   "cell_type": "code",
   "execution_count": null,
   "id": "bcf4f0b2",
   "metadata": {},
   "outputs": [],
   "source": []
  },
  {
   "cell_type": "code",
   "execution_count": null,
   "id": "bb98d40f",
   "metadata": {},
   "outputs": [],
   "source": []
  },
  {
   "cell_type": "code",
   "execution_count": null,
   "id": "ee127ace",
   "metadata": {},
   "outputs": [],
   "source": []
  }
 ],
 "metadata": {
  "kernelspec": {
   "display_name": "Python 3 (ipykernel)",
   "language": "python",
   "name": "python3"
  },
  "language_info": {
   "codemirror_mode": {
    "name": "ipython",
    "version": 3
   },
   "file_extension": ".py",
   "mimetype": "text/x-python",
   "name": "python",
   "nbconvert_exporter": "python",
   "pygments_lexer": "ipython3",
   "version": "3.9.12"
  }
 },
 "nbformat": 4,
 "nbformat_minor": 5
}
