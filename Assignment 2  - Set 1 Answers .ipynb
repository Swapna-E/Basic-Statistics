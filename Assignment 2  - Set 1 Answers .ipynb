{
 "cells": [
  {
   "cell_type": "markdown",
   "id": "4c6fd45c",
   "metadata": {},
   "source": [
    "# Q - 1\n"
   ]
  },
  {
   "cell_type": "code",
   "execution_count": 15,
   "id": "74bc4a94",
   "metadata": {},
   "outputs": [],
   "source": [
    "Company=[\"Allied Signal\",\"Bankers Trust\",\"General Mills\",\"ITT Industries\",\"J.P.Morgan & Co.\",\n",
    "         \"Lehman Brothers\",\"Marriott\",\"MCI\",\"Merrill Lynch\",\"Microsoft\",\"Morgan Stanley\",\"Sun Microsystems\",\"Travelers\",\n",
    "         \"US Airways\",\"Warner-Lambert\"]\n",
    "X=[24.23,25.53,25.41,24.14,29.62,28.25,25.81,24.39,40.26,32.95,91.36,25.99,39.42,26.71,35.00]\n"
   ]
  },
  {
   "cell_type": "code",
   "execution_count": 16,
   "id": "71a9d19f",
   "metadata": {},
   "outputs": [
    {
     "data": {
      "text/plain": [
       "{'Name of Company': ['Allied Signal',\n",
       "  'Bankers Trust',\n",
       "  'General Mills',\n",
       "  'ITT Industries',\n",
       "  'J.P.Morgan & Co.',\n",
       "  'Lehman Brothers',\n",
       "  'Marriott',\n",
       "  'MCI',\n",
       "  'Merrill Lynch',\n",
       "  'Microsoft',\n",
       "  'Morgan Stanley',\n",
       "  'Sun Microsystems',\n",
       "  'Travelers',\n",
       "  'US Airways',\n",
       "  'Warner-Lambert'],\n",
       " 'Measure of X': [24.23,\n",
       "  25.53,\n",
       "  25.41,\n",
       "  24.14,\n",
       "  29.62,\n",
       "  28.25,\n",
       "  25.81,\n",
       "  24.39,\n",
       "  40.26,\n",
       "  32.95,\n",
       "  91.36,\n",
       "  25.99,\n",
       "  39.42,\n",
       "  26.71,\n",
       "  35.0]}"
      ]
     },
     "execution_count": 16,
     "metadata": {},
     "output_type": "execute_result"
    }
   ],
   "source": [
    "data = {\"Name of Company\":Company,\"Measure of X\":X}\n",
    "data"
   ]
  },
  {
   "cell_type": "code",
   "execution_count": 9,
   "id": "630bd25a",
   "metadata": {},
   "outputs": [
    {
     "data": {
      "text/html": [
       "<div>\n",
       "<style scoped>\n",
       "    .dataframe tbody tr th:only-of-type {\n",
       "        vertical-align: middle;\n",
       "    }\n",
       "\n",
       "    .dataframe tbody tr th {\n",
       "        vertical-align: top;\n",
       "    }\n",
       "\n",
       "    .dataframe thead th {\n",
       "        text-align: right;\n",
       "    }\n",
       "</style>\n",
       "<table border=\"1\" class=\"dataframe\">\n",
       "  <thead>\n",
       "    <tr style=\"text-align: right;\">\n",
       "      <th></th>\n",
       "      <th>Name of Company</th>\n",
       "      <th>Measure of X</th>\n",
       "    </tr>\n",
       "  </thead>\n",
       "  <tbody>\n",
       "    <tr>\n",
       "      <th>0</th>\n",
       "      <td>Allied Signal</td>\n",
       "      <td>24.23</td>\n",
       "    </tr>\n",
       "    <tr>\n",
       "      <th>1</th>\n",
       "      <td>Bankers Trust</td>\n",
       "      <td>25.53</td>\n",
       "    </tr>\n",
       "    <tr>\n",
       "      <th>2</th>\n",
       "      <td>General Mills</td>\n",
       "      <td>25.41</td>\n",
       "    </tr>\n",
       "    <tr>\n",
       "      <th>3</th>\n",
       "      <td>ITT Industries</td>\n",
       "      <td>24.14</td>\n",
       "    </tr>\n",
       "    <tr>\n",
       "      <th>4</th>\n",
       "      <td>J.P.Morgan &amp; Co.</td>\n",
       "      <td>29.62</td>\n",
       "    </tr>\n",
       "    <tr>\n",
       "      <th>5</th>\n",
       "      <td>Lehman Brothers</td>\n",
       "      <td>28.25</td>\n",
       "    </tr>\n",
       "    <tr>\n",
       "      <th>6</th>\n",
       "      <td>Marriott</td>\n",
       "      <td>25.81</td>\n",
       "    </tr>\n",
       "    <tr>\n",
       "      <th>7</th>\n",
       "      <td>MCI</td>\n",
       "      <td>24.39</td>\n",
       "    </tr>\n",
       "    <tr>\n",
       "      <th>8</th>\n",
       "      <td>Merrill Lynch</td>\n",
       "      <td>40.26</td>\n",
       "    </tr>\n",
       "    <tr>\n",
       "      <th>9</th>\n",
       "      <td>Microsoft</td>\n",
       "      <td>32.95</td>\n",
       "    </tr>\n",
       "    <tr>\n",
       "      <th>10</th>\n",
       "      <td>Morgan Stanley</td>\n",
       "      <td>91.36</td>\n",
       "    </tr>\n",
       "    <tr>\n",
       "      <th>11</th>\n",
       "      <td>Sun Microsystems</td>\n",
       "      <td>25.99</td>\n",
       "    </tr>\n",
       "    <tr>\n",
       "      <th>12</th>\n",
       "      <td>Travelers</td>\n",
       "      <td>39.42</td>\n",
       "    </tr>\n",
       "    <tr>\n",
       "      <th>13</th>\n",
       "      <td>US Airways</td>\n",
       "      <td>26.71</td>\n",
       "    </tr>\n",
       "    <tr>\n",
       "      <th>14</th>\n",
       "      <td>Warner-Lambert</td>\n",
       "      <td>35.00</td>\n",
       "    </tr>\n",
       "  </tbody>\n",
       "</table>\n",
       "</div>"
      ],
      "text/plain": [
       "     Name of Company  Measure of X\n",
       "0      Allied Signal         24.23\n",
       "1      Bankers Trust         25.53\n",
       "2      General Mills         25.41\n",
       "3     ITT Industries         24.14\n",
       "4   J.P.Morgan & Co.         29.62\n",
       "5    Lehman Brothers         28.25\n",
       "6           Marriott         25.81\n",
       "7                MCI         24.39\n",
       "8      Merrill Lynch         40.26\n",
       "9          Microsoft         32.95\n",
       "10    Morgan Stanley         91.36\n",
       "11  Sun Microsystems         25.99\n",
       "12         Travelers         39.42\n",
       "13        US Airways         26.71\n",
       "14    Warner-Lambert         35.00"
      ]
     },
     "execution_count": 9,
     "metadata": {},
     "output_type": "execute_result"
    }
   ],
   "source": [
    "import pandas as pd\n",
    "df=pd.DataFrame(data)\n",
    "df"
   ]
  },
  {
   "cell_type": "code",
   "execution_count": 11,
   "id": "03be8587",
   "metadata": {},
   "outputs": [
    {
     "data": {
      "image/png": "[encoded data removed]",
      "text/plain": [
       "<Figure size 432x288 with 1 Axes>"
      ]
     },
     "metadata": {
      "needs_background": "light"
     },
     "output_type": "display_data"
    }
   ],
   "source": [
    "import seaborn as sns\n",
    "import matplotlib.pyplot as plt\n",
    "plt.hist(df[\"Measure of X\"],color=\"blue\")\n",
    "plt.xlabel(\"Measure of X\")\n",
    "plt.ylabel(\"Frquencies\")\n",
    "plt.show()"
   ]
  },
  {
   "cell_type": "code",
   "execution_count": 52,
   "id": "b594be83",
   "metadata": {},
   "outputs": [
    {
     "data": {
      "image/png": "[encoded data removed]",
      "text/plain": [
       "<Figure size 432x288 with 1 Axes>"
      ]
     },
     "metadata": {
      "needs_background": "light"
     },
     "output_type": "display_data"
    }
   ],
   "source": [
    "sns.barplot(x = 'Name of Company', y = 'Measure of X', data = df);"
   ]
  },
  {
   "cell_type": "raw",
   "id": "9d5f6f44",
   "metadata": {},
   "source": [
    "sns.distplot(df[\"Measure of X\"],kde=True)"
   ]
  },
  {
   "cell_type": "code",
   "execution_count": 12,
   "id": "60e7b283",
   "metadata": {},
   "outputs": [
    {
     "data": {
      "text/plain": [
       "<AxesSubplot:ylabel='Measure of X'>"
      ]
     },
     "execution_count": 12,
     "metadata": {},
     "output_type": "execute_result"
    },
    {
     "data": {
      "image/png": "[encoded data removed]",
      "text/plain": [
       "<Figure size 432x288 with 1 Axes>"
      ]
     },
     "metadata": {
      "needs_background": "light"
     },
     "output_type": "display_data"
    }
   ],
   "source": [
    "sns.boxplot(y = \"Measure of X\",data=df,color=\"red\")"
   ]
  },
  {
   "cell_type": "code",
   "execution_count": null,
   "id": "fe05e00b",
   "metadata": {},
   "outputs": [],
   "source": [
    "#We can find outlier in above histogram and box plots around 90"
   ]
  },
  {
   "cell_type": "code",
   "execution_count": 45,
   "id": "cae49f8d",
   "metadata": {},
   "outputs": [
    {
     "name": "stdout",
     "output_type": "stream",
     "text": [
      "First Quantile= 25.47 Second Quantile= 26.71 Third Quantile= 33.975 Inter-Quartile Range= 8.505000000000003 Upper Whisker= 46.7325 Lower Whisker= 12.712499999999995\n",
      "The outlier in the boxplot: 10    91.36\n",
      "dtype: float64\n",
      "The outlier in the boxplot: 10    91.36\n",
      "dtype: float64\n",
      "count    15.000000\n",
      "mean     33.271333\n",
      "std      16.945401\n",
      "min      24.140000\n",
      "25%      25.470000\n",
      "50%      26.710000\n",
      "75%      33.975000\n",
      "max      91.360000\n",
      "dtype: float64\n",
      "Variance= 287.1466123809524\n"
     ]
    }
   ],
   "source": [
    "import numpy as np\n",
    "measure_of_x=pd.Series(X)\n",
    "Q1 = np.quantile(measure_of_x,0.25)\n",
    "Q3 = np.quantile(measure_of_x,0.75)\n",
    "med = np.median(measure_of_x)\n",
    "IQR = Q3 - Q1\n",
    "upper_bound = Q3+(1.5*IQR)\n",
    "lower_bound = Q1-(1.5*IQR)\n",
    "print('First Quantile=', Q1, 'Second Quantile=', med, 'Third Quantile=', Q3,\n",
    "      'Inter-Quartile Range=', IQR, 'Upper Whisker=', upper_bound, 'Lower Whisker=', lower_bound)\n",
    "Outliers = measure_of_x[(measure_of_x <= lower_bound) | (measure_of_x >= upper_bound)]\n",
    "print('The outlier in the boxplot:',Outliers)\n",
    "Outliers = measure_of_x[(measure_x >= upper_bound)]\n",
    "print('The outlier in the boxplot:',Outliers)\n",
    "print(measure_of_x.describe())\n",
    "print(\"Variance=\",measure_x.var())"
   ]
  },
  {
   "cell_type": "code",
   "execution_count": 14,
   "id": "c410392a",
   "metadata": {},
   "outputs": [
    {
     "data": {
      "text/html": [
       "<div>\n",
       "<style scoped>\n",
       "    .dataframe tbody tr th:only-of-type {\n",
       "        vertical-align: middle;\n",
       "    }\n",
       "\n",
       "    .dataframe tbody tr th {\n",
       "        vertical-align: top;\n",
       "    }\n",
       "\n",
       "    .dataframe thead th {\n",
       "        text-align: right;\n",
       "    }\n",
       "</style>\n",
       "<table border=\"1\" class=\"dataframe\">\n",
       "  <thead>\n",
       "    <tr style=\"text-align: right;\">\n",
       "      <th></th>\n",
       "      <th>Measure of X</th>\n",
       "    </tr>\n",
       "  </thead>\n",
       "  <tbody>\n",
       "    <tr>\n",
       "      <th>count</th>\n",
       "      <td>15.000000</td>\n",
       "    </tr>\n",
       "    <tr>\n",
       "      <th>mean</th>\n",
       "      <td>33.271333</td>\n",
       "    </tr>\n",
       "    <tr>\n",
       "      <th>std</th>\n",
       "      <td>16.945401</td>\n",
       "    </tr>\n",
       "    <tr>\n",
       "      <th>min</th>\n",
       "      <td>24.140000</td>\n",
       "    </tr>\n",
       "    <tr>\n",
       "      <th>25%</th>\n",
       "      <td>25.470000</td>\n",
       "    </tr>\n",
       "    <tr>\n",
       "      <th>50%</th>\n",
       "      <td>26.710000</td>\n",
       "    </tr>\n",
       "    <tr>\n",
       "      <th>75%</th>\n",
       "      <td>33.975000</td>\n",
       "    </tr>\n",
       "    <tr>\n",
       "      <th>max</th>\n",
       "      <td>91.360000</td>\n",
       "    </tr>\n",
       "  </tbody>\n",
       "</table>\n",
       "</div>"
      ],
      "text/plain": [
       "       Measure of X\n",
       "count     15.000000\n",
       "mean      33.271333\n",
       "std       16.945401\n",
       "min       24.140000\n",
       "25%       25.470000\n",
       "50%       26.710000\n",
       "75%       33.975000\n",
       "max       91.360000"
      ]
     },
     "execution_count": 14,
     "metadata": {},
     "output_type": "execute_result"
    }
   ],
   "source": [
    "df.describe()"
   ]
  },
  {
   "cell_type": "code",
   "execution_count": 22,
   "id": "a8274497",
   "metadata": {},
   "outputs": [
    {
     "data": {
      "text/plain": [
       "(15, 2)"
      ]
     },
     "execution_count": 22,
     "metadata": {},
     "output_type": "execute_result"
    }
   ],
   "source": [
    "df.shape"
   ]
  },
  {
   "cell_type": "code",
   "execution_count": 31,
   "id": "8cc4282d",
   "metadata": {},
   "outputs": [
    {
     "name": "stdout",
     "output_type": "stream",
     "text": [
      " Mean: Measure of X    33.271333\n",
      "dtype: float64\n"
     ]
    },
    {
     "name": "stderr",
     "output_type": "stream",
     "text": [
      "C:\\Users\\admin\\AppData\\Local\\Temp\\ipykernel_14728\\1741487897.py:1: FutureWarning: Dropping of nuisance columns in DataFrame reductions (with 'numeric_only=None') is deprecated; in a future version this will raise TypeError.  Select only valid columns before calling the reduction.\n",
      "  Mean_of_X = df.mean()\n"
     ]
    }
   ],
   "source": [
    "Mean_of_X = df.mean()\n",
    "print (\" Mean:\" , Mean_of_X)"
   ]
  },
  {
   "cell_type": "code",
   "execution_count": 32,
   "id": "ccb41422",
   "metadata": {},
   "outputs": [
    {
     "name": "stdout",
     "output_type": "stream",
     "text": [
      " standard deviation: Measure of X    16.945401\n",
      "dtype: float64\n"
     ]
    },
    {
     "name": "stderr",
     "output_type": "stream",
     "text": [
      "C:\\Users\\admin\\AppData\\Local\\Temp\\ipykernel_14728\\3056897790.py:1: FutureWarning: Dropping of nuisance columns in DataFrame reductions (with 'numeric_only=None') is deprecated; in a future version this will raise TypeError.  Select only valid columns before calling the reduction.\n",
      "  std_of_X = df.std()\n"
     ]
    }
   ],
   "source": [
    "std_of_X = df.std()\n",
    "print (\" standard deviation:\" , std_of_X)"
   ]
  },
  {
   "cell_type": "code",
   "execution_count": 33,
   "id": "827bee15",
   "metadata": {},
   "outputs": [
    {
     "name": "stdout",
     "output_type": "stream",
     "text": [
      "Variance: Measure of X    287.146612\n",
      "dtype: float64\n"
     ]
    },
    {
     "name": "stderr",
     "output_type": "stream",
     "text": [
      "C:\\Users\\admin\\AppData\\Local\\Temp\\ipykernel_14728\\2438216847.py:1: FutureWarning: Dropping of nuisance columns in DataFrame reductions (with 'numeric_only=None') is deprecated; in a future version this will raise TypeError.  Select only valid columns before calling the reduction.\n",
      "  var_of_X = df.var()\n"
     ]
    }
   ],
   "source": [
    "var_of_X = df.var()\n",
    "print (\"Variance:\" , var_of_X)"
   ]
  },
  {
   "cell_type": "code",
   "execution_count": null,
   "id": "d017ab90",
   "metadata": {},
   "outputs": [],
   "source": []
  },
  {
   "cell_type": "markdown",
   "id": "ca1c4ca5",
   "metadata": {},
   "source": [
    "# Q - 2"
   ]
  },
  {
   "cell_type": "code",
   "execution_count": 2,
   "id": "56912191",
   "metadata": {},
   "outputs": [
    {
     "data": {
      "text/plain": [
       "0.02475124687812502"
      ]
     },
     "execution_count": 2,
     "metadata": {},
     "output_type": "execute_result"
    }
   ],
   "source": [
    "import numpy as np\n",
    "1-((199/200)**5)"
   ]
  },
  {
   "cell_type": "code",
   "execution_count": null,
   "id": "78c3a7a0",
   "metadata": {},
   "outputs": [],
   "source": [
    "1-"
   ]
  }
 ],
 "metadata": {
  "kernelspec": {
   "display_name": "Python 3 (ipykernel)",
   "language": "python",
   "name": "python3"
  },
  "language_info": {
   "codemirror_mode": {
    "name": "ipython",
    "version": 3
   },
   "file_extension": ".py",
   "mimetype": "text/x-python",
   "name": "python",
   "nbconvert_exporter": "python",
   "pygments_lexer": "ipython3",
   "version": "3.9.12"
  }
 },
 "nbformat": 4,
 "nbformat_minor": 5
}
