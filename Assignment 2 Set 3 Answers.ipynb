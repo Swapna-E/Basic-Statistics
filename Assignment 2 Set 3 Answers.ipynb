{
 "cells": [
  {
   "cell_type": "markdown",
   "id": "2789134a",
   "metadata": {},
   "source": [
    "# Q5"
   ]
  },
  {
   "cell_type": "code",
   "execution_count": 1,
   "id": "ce35609a",
   "metadata": {},
   "outputs": [],
   "source": [
    "## Assume Null Hypothesis Ho : p>=5%  {means that Mozilla has more than or equal to 5% share of the market}\n",
    "## Alternate Hypothesis H1 : p < 5%  {means that Mozilla has a less than 5% share of the market}"
   ]
  },
  {
   "cell_type": "code",
   "execution_count": 2,
   "id": "e5bab386",
   "metadata": {},
   "outputs": [],
   "source": [
    "# Given n=2000, mean = 4.6"
   ]
  },
  {
   "cell_type": "code",
   "execution_count": 1,
   "id": "a25991f7",
   "metadata": {},
   "outputs": [],
   "source": [
    "import numpy as np\n",
    "from scipy import stats\n",
    "from scipy.stats import norm"
   ]
  },
  {
   "cell_type": "code",
   "execution_count": 2,
   "id": "1710d2a9",
   "metadata": {},
   "outputs": [
    {
     "data": {
      "text/plain": [
       "-0.820782681668124"
      ]
     },
     "execution_count": 2,
     "metadata": {},
     "output_type": "execute_result"
    }
   ],
   "source": [
    "# To find Z score\n",
    "z_score=(0.046-0.05)/(np.sqrt((0.05*(1-0.05))/2000))\n",
    "z_score"
   ]
  },
  {
   "cell_type": "code",
   "execution_count": 4,
   "id": "bfc8b07c",
   "metadata": {},
   "outputs": [
    {
     "data": {
      "text/plain": [
       "0.20588503245107104"
      ]
     },
     "execution_count": 4,
     "metadata": {},
     "output_type": "execute_result"
    }
   ],
   "source": [
    "# To find the probability value\n",
    "p_value=1-stats.norm.cdf(abs(z_score))\n",
    "p_value"
   ]
  },
  {
   "cell_type": "code",
   "execution_count": null,
   "id": "6a1097cb",
   "metadata": {},
   "outputs": [],
   "source": []
  },
  {
   "cell_type": "code",
   "execution_count": null,
   "id": "c9165339",
   "metadata": {},
   "outputs": [],
   "source": [
    "#Q8"
   ]
  },
  {
   "cell_type": "code",
   "execution_count": 4,
   "id": "82c0f595",
   "metadata": {},
   "outputs": [
    {
     "data": {
      "text/plain": [
       "845.3556249999999"
      ]
     },
     "execution_count": 4,
     "metadata": {},
     "output_type": "execute_result"
    }
   ],
   "source": [
    "import numpy as np\n",
    "n = ((2.326/0.04)**2 ) * (0.5*(1-0.5))\n",
    "n"
   ]
  },
  {
   "cell_type": "code",
   "execution_count": null,
   "id": "745e1366",
   "metadata": {},
   "outputs": [],
   "source": []
  },
  {
   "cell_type": "code",
   "execution_count": null,
   "id": "d43d2218",
   "metadata": {},
   "outputs": [],
   "source": [
    "#Q9"
   ]
  },
  {
   "cell_type": "code",
   "execution_count": 5,
   "id": "694fd4a6",
   "metadata": {},
   "outputs": [
    {
     "data": {
      "text/plain": [
       "600.25"
      ]
     },
     "execution_count": 5,
     "metadata": {},
     "output_type": "execute_result"
    }
   ],
   "source": [
    "import numpy as np\n",
    "n = ((1.96/0.04)**2 ) * (0.5*(1-0.5))\n",
    "n"
   ]
  },
  {
   "cell_type": "code",
   "execution_count": null,
   "id": "160c5989",
   "metadata": {},
   "outputs": [],
   "source": []
  },
  {
   "cell_type": "code",
   "execution_count": null,
   "id": "ca90d21e",
   "metadata": {},
   "outputs": [],
   "source": []
  },
  {
   "cell_type": "code",
   "execution_count": null,
   "id": "c646ced5",
   "metadata": {},
   "outputs": [],
   "source": []
  }
 ],
 "metadata": {
  "kernelspec": {
   "display_name": "Python 3 (ipykernel)",
   "language": "python",
   "name": "python3"
  },
  "language_info": {
   "codemirror_mode": {
    "name": "ipython",
    "version": 3
   },
   "file_extension": ".py",
   "mimetype": "text/x-python",
   "name": "python",
   "nbconvert_exporter": "python",
   "pygments_lexer": "ipython3",
   "version": "3.9.12"
  }
 },
 "nbformat": 4,
 "nbformat_minor": 5
}
